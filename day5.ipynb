{
  "nbformat": 4,
  "nbformat_minor": 0,
  "metadata": {
    "colab": {
      "name": "day5.ipynb",
      "provenance": [],
      "authorship_tag": "ABX9TyPRq4EmurSQX98hangIovqa",
      "include_colab_link": true
    },
    "kernelspec": {
      "name": "python3",
      "display_name": "Python 3"
    },
    "language_info": {
      "name": "python"
    }
  },
  "cells": [
    {
      "cell_type": "markdown",
      "metadata": {
        "id": "view-in-github",
        "colab_type": "text"
      },
      "source": [
        "<a href=\"https://colab.research.google.com/github/BDhivya-md3/day5/blob/main/day5.ipynb\" target=\"_parent\"><img src=\"https://colab.research.google.com/assets/colab-badge.svg\" alt=\"Open In Colab\"/></a>"
      ]
    },
    {
      "cell_type": "code",
      "metadata": {
        "id": "GgdSPwqI1_zD"
      },
      "source": [
        "#importing libraries\n",
        "import pandas as pd\n",
        "import numpy as np\n",
        "import matplotlib.pyplot as plt"
      ],
      "execution_count": 1,
      "outputs": []
    },
    {
      "cell_type": "code",
      "metadata": {
        "id": "cTUJOc7dUQdE"
      },
      "source": [
        "#import dataset\n",
        "dataset = pd.read_csv('/content/Salary_Data.csv')\n",
        "x = dataset.iloc[:, :-1].values\n",
        "y = dataset.iloc[:,-1].values\n"
      ],
      "execution_count": 2,
      "outputs": []
    },
    {
      "cell_type": "code",
      "metadata": {
        "id": "Wu9uBgk-U9Aq"
      },
      "source": [
        "#split the dataset into test and trainsets\n",
        "from sklearn.model_selection import train_test_split\n",
        "x_train,x_test,y_train,y_test = train_test_split(x,y,test_size = 1/3)\n"
      ],
      "execution_count": 3,
      "outputs": []
    },
    {
      "cell_type": "code",
      "metadata": {
        "colab": {
          "base_uri": "https://localhost:8080/"
        },
        "id": "KMofuMl8U80l",
        "outputId": "8bfbce40-54a7-48c3-cfa2-63ad29446f20"
      },
      "source": [
        "print(x_train)\n",
        "print(x_test)\n",
        "print(y_train)\n",
        "print(y_test)"
      ],
      "execution_count": 4,
      "outputs": [
        {
          "output_type": "stream",
          "text": [
            "[[ 4. ]\n",
            " [ 3.2]\n",
            " [ 2.9]\n",
            " [ 9.6]\n",
            " [10.3]\n",
            " [ 2.2]\n",
            " [ 5.3]\n",
            " [ 5.9]\n",
            " [ 3.2]\n",
            " [ 7.9]\n",
            " [ 6. ]\n",
            " [ 3.9]\n",
            " [ 8.7]\n",
            " [ 9.5]\n",
            " [ 4.9]\n",
            " [ 9. ]\n",
            " [ 3.7]\n",
            " [ 3. ]\n",
            " [ 4.5]\n",
            " [ 1.3]]\n",
            "[[ 1.1]\n",
            " [ 4.1]\n",
            " [ 2. ]\n",
            " [ 7.1]\n",
            " [ 5.1]\n",
            " [ 4. ]\n",
            " [10.5]\n",
            " [ 1.5]\n",
            " [ 8.2]\n",
            " [ 6.8]]\n",
            "[ 56957  64445  56642 112635 122391  39891  83088  81363  54445 101302\n",
            "  93940  63218 109431 116969  67938 105582  57189  60150  61111  46205]\n",
            "[ 39343  57081  43525  98273  66029  55794 121872  37731 113812  91738]\n"
          ],
          "name": "stdout"
        }
      ]
    },
    {
      "cell_type": "code",
      "metadata": {
        "colab": {
          "base_uri": "https://localhost:8080/"
        },
        "id": "xIWPntU3VtkM",
        "outputId": "40694ad7-6ce9-42ba-d7d1-85bdd5802a0a"
      },
      "source": [
        "#training the simple linear reg model\n",
        "from sklearn.linear_model import LinearRegression\n",
        "slr = LinearRegression()\n",
        "slr.fit(x_train,y_train)\n"
      ],
      "execution_count": 5,
      "outputs": [
        {
          "output_type": "execute_result",
          "data": {
            "text/plain": [
              "LinearRegression(copy_X=True, fit_intercept=True, n_jobs=None, normalize=False)"
            ]
          },
          "metadata": {
            "tags": []
          },
          "execution_count": 5
        }
      ]
    },
    {
      "cell_type": "code",
      "metadata": {
        "id": "PKMv7w8dWFvi"
      },
      "source": [
        "#predic\n",
        "y_pred = slr.predict(x_test)"
      ],
      "execution_count": 7,
      "outputs": []
    },
    {
      "cell_type": "code",
      "metadata": {
        "colab": {
          "base_uri": "https://localhost:8080/"
        },
        "id": "p3HKH0VFWPvc",
        "outputId": "2777cc1a-e366-4f7a-b772-a8871f98dda2"
      },
      "source": [
        "y_pred"
      ],
      "execution_count": 8,
      "outputs": [
        {
          "output_type": "execute_result",
          "data": {
            "text/plain": [
              "array([ 38053.08561939,  65426.54381292,  46265.12307745,  92800.00200644,\n",
              "        74551.02987742,  64514.09520646, 123823.25462576,  41702.8800452 ,\n",
              "       102836.9366774 ,  90062.65618708])"
            ]
          },
          "metadata": {
            "tags": []
          },
          "execution_count": 8
        }
      ]
    },
    {
      "cell_type": "code",
      "metadata": {
        "colab": {
          "base_uri": "https://localhost:8080/"
        },
        "id": "lMHtrkpsWjjg",
        "outputId": "7afa2858-ef7b-4013-c712-e7ae58677ee0"
      },
      "source": [
        "x_test"
      ],
      "execution_count": 9,
      "outputs": [
        {
          "output_type": "execute_result",
          "data": {
            "text/plain": [
              "array([[ 1.1],\n",
              "       [ 4.1],\n",
              "       [ 2. ],\n",
              "       [ 7.1],\n",
              "       [ 5.1],\n",
              "       [ 4. ],\n",
              "       [10.5],\n",
              "       [ 1.5],\n",
              "       [ 8.2],\n",
              "       [ 6.8]])"
            ]
          },
          "metadata": {
            "tags": []
          },
          "execution_count": 9
        }
      ]
    },
    {
      "cell_type": "code",
      "metadata": {
        "colab": {
          "base_uri": "https://localhost:8080/",
          "height": 295
        },
        "id": "fpY7pVrrWvPv",
        "outputId": "d5c43e25-a2e1-4d4f-f816-461f8fe12eae"
      },
      "source": [
        "#visulazie the training set data\n",
        "plt.scatter(x_train,y_train,color = \"blue\")\n",
        "plt.plot(x_train,slr.predict(x_train),color = \"green\")\n",
        "plt.title(\"simple linear regression model\")\n",
        "plt.xlabel(\"experience\")\n",
        "plt.ylabel(\"salary\")\n",
        "plt.show()"
      ],
      "execution_count": 10,
      "outputs": [
        {
          "output_type": "display_data",
          "data": {
            "image/png": "[encoded data removed]",
            "text/plain": [
              "<Figure size 432x288 with 1 Axes>"
            ]
          },
          "metadata": {
            "tags": [],
            "needs_background": "light"
          }
        }
      ]
    },
    {
      "cell_type": "code",
      "metadata": {
        "colab": {
          "base_uri": "https://localhost:8080/",
          "height": 295
        },
        "id": "lgfYo4n5X2o_",
        "outputId": "03b4085f-9c22-4fc5-fcc0-3be236520e71"
      },
      "source": [
        "#visulazie the test set data\n",
        "plt.scatter(x_test,y_test,color = \"blue\")\n",
        "plt.plot(x_train,slr.predict(x_train),color = \"green\")\n",
        "plt.title(\"simple linear regression model\")\n",
        "plt.xlabel(\"experience\")\n",
        "plt.ylabel(\"salary\")\n",
        "plt.show()"
      ],
      "execution_count": 11,
      "outputs": [
        {
          "output_type": "display_data",
          "data": {
            "image/png": "[encoded data removed]",
            "text/plain": [
              "<Figure size 432x288 with 1 Axes>"
            ]
          },
          "metadata": {
            "tags": [],
            "needs_background": "light"
          }
        }
      ]
    }
  ]
}